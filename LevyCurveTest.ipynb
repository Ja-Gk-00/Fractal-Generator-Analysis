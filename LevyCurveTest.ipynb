{
 "cells": [
  {
   "cell_type": "code",
   "execution_count": null,
   "id": "43cc289b",
   "metadata": {},
   "outputs": [],
   "source": [
    "from LevyCurve import LevyCCurve\n",
    "\n",
    "levy = LevyCCurve(iterations=10, angle_deg=45, method=\"lsystem\")\n",
    "\n",
    "levy.generate()\n",
    "levy.plot(figsize=(7, 7), linewidth=1.5)"
   ]
  },
  {
   "cell_type": "code",
   "execution_count": null,
   "id": "125f57ec",
   "metadata": {},
   "outputs": [],
   "source": [
    "from LevyCurve import LevyCCurve\n",
    "\n",
    "levy = LevyCCurve(iterations=10, angle_deg=45, method=\"lsystem\", lsystem_rules={\"F\": \"+F-F-F+\"})\n",
    "\n",
    "levy.generate()\n",
    "levy.plot(figsize=(7, 7), linewidth=1.0)"
   ]
  },
  {
   "cell_type": "code",
   "execution_count": null,
   "id": "b4d19c0c",
   "metadata": {},
   "outputs": [],
   "source": [
    "from LevyCurve import LevyCCurve\n",
    "\n",
    "levy = LevyCCurve(method=\"ifs\", n_points=40000)\n",
    "\n",
    "levy.generate()\n",
    "levy.plot(figsize=(7, 7))"
   ]
  },
  {
   "cell_type": "code",
   "execution_count": null,
   "id": "a8759ce2",
   "metadata": {},
   "outputs": [],
   "source": [
    "from LevyCurve import LevyCCurve\n",
    "import matplotlib.pyplot as plt\n",
    "\n",
    "iteration_values = [0, 1, 2, 3, 5, 8]\n",
    "\n",
    "for i in iteration_values:\n",
    "    levy = LevyCCurve(iterations=i, method=\"lsystem\")\n",
    "    levy.generate()\n",
    "\n",
    "    plt.figure(figsize=(6, 6))\n",
    "    xs, ys = zip(*levy.points)\n",
    "    plt.plot(xs, ys, linewidth=1.5)\n",
    "    plt.axis(\"equal\")\n",
    "    plt.axis(\"off\")\n",
    "    plt.title(f\"Lévy C-curve — iteration {i}\", pad=12)\n",
    "    plt.tight_layout()\n",
    "    plt.show()"
   ]
  }
 ],
 "metadata": {
  "kernelspec": {
   "display_name": ".venv",
   "language": "python",
   "name": "python3"
  },
  "language_info": {
   "codemirror_mode": {
    "name": "ipython",
    "version": 3
   },
   "file_extension": ".py",
   "mimetype": "text/x-python",
   "name": "python",
   "nbconvert_exporter": "python",
   "pygments_lexer": "ipython3",
   "version": "3.13.0"
  }
 },
 "nbformat": 4,
 "nbformat_minor": 5
}
